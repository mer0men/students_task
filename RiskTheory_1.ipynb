{
  "nbformat": 4,
  "nbformat_minor": 0,
  "metadata": {
    "colab": {
      "provenance": [],
      "authorship_tag": "ABX9TyNcWEQi1QMYSif38iY4Tj4u",
      "include_colab_link": true
    },
    "kernelspec": {
      "name": "python3",
      "display_name": "Python 3"
    },
    "language_info": {
      "name": "python"
    }
  },
  "cells": [
    {
      "cell_type": "markdown",
      "metadata": {
        "id": "view-in-github",
        "colab_type": "text"
      },
      "source": [
        "<a href=\"https://colab.research.google.com/github/mer0men/students_task/blob/master/RiskTheory_1.ipynb\" target=\"_parent\"><img src=\"https://colab.research.google.com/assets/colab-badge.svg\" alt=\"Open In Colab\"/></a>"
      ]
    },
    {
      "cell_type": "code",
      "execution_count": 1,
      "metadata": {
        "colab": {
          "base_uri": "https://localhost:8080/",
          "height": 805
        },
        "id": "eXCu_c7m_Wrx",
        "outputId": "b6ff6ecf-1a8f-4ed7-f42c-6e23838fc731"
      },
      "outputs": [
        {
          "output_type": "stream",
          "name": "stdout",
          "text": [
            "       id  maxsel          mon  debt   group\n",
            "0       1     151   801.102780     1    >120\n",
            "1       2      57  1192.729917     1   31-60\n",
            "2       3     150  1054.504819     0    >120\n",
            "3       4      24  1159.764123     1    0-30\n",
            "4       5      96  1038.520077     0  91-120\n",
            "..    ...     ...          ...   ...     ...\n",
            "995   996     132  1022.223461     1    >120\n",
            "996   997      55  1316.975978     0   31-60\n",
            "997   998      61  1064.787295     1   61-90\n",
            "998   999      75   950.407232     1   61-90\n",
            "999  1000      49  1052.216068     1   31-60\n",
            "\n",
            "[1000 rows x 5 columns]\n",
            "    group      debt\n",
            "0    0-30  0.485294\n",
            "1   31-60  0.506098\n",
            "2   61-90  0.562044\n",
            "3  91-120  0.480769\n",
            "4    >120  0.525799\n"
          ]
        },
        {
          "output_type": "execute_result",
          "data": {
            "text/plain": [
              "<BarContainer object of 5 artists>"
            ]
          },
          "metadata": {},
          "execution_count": 1
        },
        {
          "output_type": "display_data",
          "data": {
            "text/plain": [
              "<Figure size 640x480 with 1 Axes>"
            ],
            "image/png": "[encoded data removed]"
          },
          "metadata": {}
        }
      ],
      "source": [
        "import pandas as pd\n",
        "import numpy as np\n",
        "import matplotlib.pyplot as plt\n",
        "import random\n",
        "\n",
        "\n",
        "count_id = 1000\n",
        "norm = 100\n",
        "\n",
        "data = {\n",
        "    'id': np.arange(1, count_id + 1),\n",
        "    'maxsel' : np.random.randint(norm -100,norm +100, size=count_id),\n",
        "    'mon': np.random.normal(1000 ,100, size=count_id),\n",
        "    'debt' :np.random.randint(2, size=count_id)\n",
        "}\n",
        "df = pd.DataFrame(data)\n",
        "group = []\n",
        "for i in range(len(df['id'])):\n",
        "  if df['maxsel'][i] <= 30:\n",
        "    group.append('0-30')\n",
        "  elif 30 < df['maxsel'][i] <= 60:\n",
        "    group.append('31-60')\n",
        "  elif 60 < df['maxsel'][i] <= 90:\n",
        "    group.append('61-90')\n",
        "  elif 90 < df['maxsel'][i] <= 120:\n",
        "    group.append('91-120')\n",
        "  else:\n",
        "    group.append('>120')\n",
        "\n",
        "df['group'] = group\n",
        "\n",
        "print(df)\n",
        "\n",
        "debt_0 = df.groupby('group')['debt'].mean().reset_index()\n",
        "\n",
        "print(debt_0)\n",
        "\n",
        "plt.bar(debt_0['group'],debt_0['debt'],color='black')\n",
        "plt.bar(debt_0['group'],1 - debt_0['debt'],bottom = debt_0['debt'],color = 'orange')\n",
        "\n",
        "\n"
      ]
    },
    {
      "cell_type": "code",
      "source": [
        "import pandas as pd\n",
        "import numpy as np\n",
        "import matplotlib.pyplot as plt\n",
        "import random\n",
        "\n",
        "\n",
        "count_id = 1000\n",
        "norm = 100\n",
        "\n",
        "data = {\n",
        "    'id': np.arange(1, count_id + 1),\n",
        "    'maxsel' : np.random.randint(norm -100,norm +100, size=count_id),\n",
        "    'mon': np.random.normal(1000 ,100, size=count_id)\n",
        "}\n",
        "df = pd.DataFrame(data)\n",
        "group = []\n",
        "debt = []\n",
        "for i in range(len(df['id'])):\n",
        "  if df['maxsel'][i] <= 30:\n",
        "    if random.random() < 0.5:\n",
        "      debt.append(1)\n",
        "    else:\n",
        "      debt.append(0)\n",
        "    group.append('0-30')\n",
        "  elif 30 < df['maxsel'][i] <= 60:\n",
        "    if random.random() < 0.4:\n",
        "      debt.append(1)\n",
        "    else:\n",
        "      debt.append(0)\n",
        "    group.append('31-60')\n",
        "  elif 60 < df['maxsel'][i] <= 90:\n",
        "    if random.random() < 0.3:\n",
        "      debt.append(1)\n",
        "    else:\n",
        "      debt.append(0)\n",
        "    group.append('61-90')\n",
        "  elif 90 < df['maxsel'][i] <= 120:\n",
        "    if random.random() < 0.2:\n",
        "      debt.append(1)\n",
        "    else:\n",
        "      debt.append(0)\n",
        "    group.append('91-120')\n",
        "  else:\n",
        "    if random.random() < 0.1:\n",
        "      debt.append(1)\n",
        "    else:\n",
        "      debt.append(0)\n",
        "    group.append('>120')\n",
        "\n",
        "df['debt'] = debt\n",
        "df['group'] = group\n",
        "\n",
        "print(df)\n",
        "\n",
        "debt_0 = df.groupby('group')['debt'].mean().reset_index()\n",
        "\n",
        "print(debt_0)\n",
        "\n",
        "plt.bar(debt_0['group'],debt_0['debt'],color='black')\n",
        "plt.bar(debt_0['group'],1 - debt_0['debt'],bottom = debt_0['debt'],color = 'orange')\n",
        "\n"
      ],
      "metadata": {
        "colab": {
          "base_uri": "https://localhost:8080/",
          "height": 805
        },
        "id": "zKB_dJp9_Z7C",
        "outputId": "7a0dd7c2-9692-4291-df8c-1985105a7677"
      },
      "execution_count": 2,
      "outputs": [
        {
          "output_type": "stream",
          "name": "stdout",
          "text": [
            "       id  maxsel          mon  debt   group\n",
            "0       1      53  1072.890112     0   31-60\n",
            "1       2       9   975.151643     1    0-30\n",
            "2       3     177  1061.853018     0    >120\n",
            "3       4      65  1073.214190     0   61-90\n",
            "4       5     114  1028.061715     0  91-120\n",
            "..    ...     ...          ...   ...     ...\n",
            "995   996      19   903.234575     0    0-30\n",
            "996   997     190  1052.285556     0    >120\n",
            "997   998      76   865.087188     0   61-90\n",
            "998   999      58  1009.320782     0   31-60\n",
            "999  1000     174  1151.773990     0    >120\n",
            "\n",
            "[1000 rows x 5 columns]\n",
            "    group      debt\n",
            "0    0-30  0.543860\n",
            "1   31-60  0.417910\n",
            "2   61-90  0.300699\n",
            "3  91-120  0.212329\n",
            "4    >120  0.078818\n"
          ]
        },
        {
          "output_type": "execute_result",
          "data": {
            "text/plain": [
              "<BarContainer object of 5 artists>"
            ]
          },
          "metadata": {},
          "execution_count": 2
        },
        {
          "output_type": "display_data",
          "data": {
            "text/plain": [
              "<Figure size 640x480 with 1 Axes>"
            ],
            "image/png": "[encoded data removed]"
          },
          "metadata": {}
        }
      ]
    }
  ]
}